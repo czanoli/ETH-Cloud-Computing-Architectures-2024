{
 "cells": [
  {
   "cell_type": "code",
   "execution_count": 1,
   "metadata": {},
   "outputs": [],
   "source": [
    "import matplotlib.pyplot as plt\n",
    "import seaborn as sns\n",
    "import numpy as np\n",
    "import pandas as pd\n",
    "import pandas as pd\n",
    "import matplotlib.cm as cm\n",
    "import os"
   ]
  },
  {
   "cell_type": "markdown",
   "metadata": {},
   "source": [
    "### Config"
   ]
  },
  {
   "cell_type": "code",
   "execution_count": 2,
   "metadata": {},
   "outputs": [],
   "source": [
    "folder_path = 'measurements/'\n",
    "columns_to_keep = ['QPS', 'p95', 'target']\n",
    "dfs = {}\n",
    "grouped_dfs = {interference_type: [] for interference_type in ['cpu', 'l1d', 'l1i', 'l2', 'llc', 'membw', 'none']}"
   ]
  },
  {
   "cell_type": "markdown",
   "metadata": {},
   "source": [
    "### Load Data"
   ]
  },
  {
   "cell_type": "code",
   "execution_count": 3,
   "metadata": {},
   "outputs": [],
   "source": [
    "for file in os.listdir(folder_path):\n",
    "    if file.endswith('.raw'):\n",
    "        file_path = os.path.join(folder_path, file)\n",
    "        parts = file.split('-')\n",
    "        interference_type = parts[1]\n",
    "        run_number = parts[2].split('.')[0]\n",
    "        data = pd.read_csv(file_path, sep=r'\\s+', usecols=columns_to_keep, skipfooter=2, engine='python')\n",
    "        dfs[f'{interference_type}_{run_number}'] = data"
   ]
  },
  {
   "cell_type": "markdown",
   "metadata": {},
   "source": [
    "### Plot 1"
   ]
  },
  {
   "cell_type": "markdown",
   "metadata": {},
   "source": [
    "#### Luca's version (ASL guidelines)"
   ]
  },
  {
   "cell_type": "code",
   "execution_count": 4,
   "metadata": {},
   "outputs": [],
   "source": [
    "# //TODO"
   ]
  },
  {
   "cell_type": "markdown",
   "metadata": {},
   "source": [
    "#### Chris' version (CCA guidelines)"
   ]
  },
  {
   "cell_type": "code",
   "execution_count": 5,
   "metadata": {},
   "outputs": [
    {
     "data": {
      "image/png": "[encoded data removed]",
      "text/plain": [
       "<Figure size 700x100 with 1 Axes>"
      ]
     },
     "metadata": {},
     "output_type": "display_data"
    }
   ],
   "source": [
    "# try: deep, muted, bright, , tab10, pastel, dark, colorblind, husl, hls\n",
    "sns.palplot(sns.color_palette(\"dark\", 7))"
   ]
  },
  {
   "cell_type": "code",
   "execution_count": 15,
   "metadata": {},
   "outputs": [],
   "source": [
    "# Plot Style\n",
    "plt.style.use('default')\n",
    "fig, ax = plt.subplots(figsize=(10, 5), dpi=100)\n",
    "# Seaborn colors\n",
    "colors = sns.color_palette(\"tab10\", 7)\n",
    "ax.set_prop_cycle('color', colors)\n",
    "\n",
    "for key in sorted(dfs.keys()):\n",
    "    parts = key.split('_')\n",
    "    interference_type = '_'.join(parts[:-1])\n",
    "    run_number = parts[-1]\n",
    "    \n",
    "    if interference_type in grouped_dfs:\n",
    "        grouped_dfs[interference_type].append(dfs[key])\n",
    "\n",
    "for i, (interference_type, df_list) in enumerate(grouped_dfs.items()):\n",
    "    p95_means = list()\n",
    "    p95_stds = list()\n",
    "    qps_means = list()\n",
    "    qps_stds = list()\n",
    "    \n",
    "    target_qps_levels = df_list[0]['target'].values if df_list else []\n",
    "    \n",
    "    for target_qps in target_qps_levels:\n",
    "        p95_values = [df[df['target'] == target_qps]['p95'].values[0] / 1000.0 for df in df_list]\n",
    "        qps_values = [df[df['target'] == target_qps]['QPS'].values[0] / 1000.0 for df in df_list]\n",
    "        \n",
    "        p95_means.append(np.mean(p95_values))\n",
    "        p95_stds.append(np.std(p95_values, ddof=1))\n",
    "        qps_means.append(np.mean(qps_values))\n",
    "        qps_stds.append(np.std(qps_values, ddof=1))\n",
    "    \n",
    "    ax.errorbar(qps_means, p95_means, xerr=qps_stds, yerr=p95_stds, fmt=\".-\", linewidth=0.75, alpha=0.7, capsize=4, label=interference_type)\n",
    "\n",
    "# Plot Style\n",
    "ax.spines['top'].set_visible(False)\n",
    "ax.spines['right'].set_visible(False)\n",
    "ax.set_facecolor('white')\n",
    "ax.legend(title='Interference Type', loc='upper left', bbox_to_anchor=(1, 1))\n",
    "x_labels = ['0', '5K', '10K', '15K', '20K', '25K', '30K', '35K', '40K', '45K', '50K', '55K']\n",
    "ax.set_xticks(range(0, 56, 5), x_labels)\n",
    "y_labels = ['0', '1', '2', '3', '4', '5', '6', '7', '8']\n",
    "ax.set_yticks(range(0, 9, 1), y_labels)\n",
    "ax.grid(True, color='darkgrey', linestyle='--', linewidth=0.5)\n",
    "ax.set_xlabel('Achieved Queries Per Second (QPS)')\n",
    "ax.set_ylabel('95th Percentile Response Time (ms)')\n",
    "ax.set_title('Response Time vs QPS for Different Interference Types')\n",
    "fig.tight_layout()\n",
    "#plt.show()\n",
    "plt.savefig(\"plots/plot1_CCA_guidelines.pdf\")"
   ]
  },
  {
   "cell_type": "code",
   "execution_count": null,
   "metadata": {},
   "outputs": [],
   "source": []
  },
  {
   "cell_type": "code",
   "execution_count": null,
   "metadata": {},
   "outputs": [],
   "source": []
  },
  {
   "cell_type": "code",
   "execution_count": null,
   "metadata": {},
   "outputs": [],
   "source": []
  }
 ],
 "metadata": {
  "kernelspec": {
   "display_name": "cca_project",
   "language": "python",
   "name": "python3"
  },
  "language_info": {
   "codemirror_mode": {
    "name": "ipython",
    "version": 3
   },
   "file_extension": ".py",
   "mimetype": "text/x-python",
   "name": "python",
   "nbconvert_exporter": "python",
   "pygments_lexer": "ipython3",
   "version": "3.12.2"
  }
 },
 "nbformat": 4,
 "nbformat_minor": 2
}

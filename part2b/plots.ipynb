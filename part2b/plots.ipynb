{
 "cells": [
  {
   "cell_type": "code",
   "execution_count": 1,
   "metadata": {},
   "outputs": [],
   "source": [
    "import pandas as pd\n",
    "import numpy as np\n",
    "import matplotlib.pyplot as plt\n",
    "import re\n",
    "from datetime import datetime\n",
    "import seaborn as sns\n",
    "import matplotlib"
   ]
  },
  {
   "cell_type": "markdown",
   "metadata": {},
   "source": [
    "### Config"
   ]
  },
  {
   "cell_type": "code",
   "execution_count": 2,
   "metadata": {},
   "outputs": [],
   "source": [
    "folder_path = \"speedups.csv\"\n",
    "data_dict = {}"
   ]
  },
  {
   "cell_type": "markdown",
   "metadata": {},
   "source": [
    "### Load Data"
   ]
  },
  {
   "cell_type": "code",
   "execution_count": 3,
   "metadata": {},
   "outputs": [],
   "source": [
    "df = pd.read_csv(folder_path, header=None, names=['name', 'value'])\n",
    "\n",
    "for _, row in df.iterrows():\n",
    "    match = re.match(r\"([^-]+)-([^.]+).raw\", row['name'])\n",
    "    if match:\n",
    "        category, test = match.groups()\n",
    "        value = row['value']\n",
    "        value = value.strip()\n",
    "        t = datetime.strptime(value,'%Mm%S.%fs') \n",
    "        total_seconds = t.minute * 60 + t.second + t.microsecond/1000000\n",
    "\n",
    "        if test not in data_dict:\n",
    "            data_dict[test] = {}\n",
    "        data_dict[test][category] = total_seconds\n",
    "\n",
    "speedups_table = pd.DataFrame(data_dict).T"
   ]
  },
  {
   "cell_type": "code",
   "execution_count": 4,
   "metadata": {},
   "outputs": [],
   "source": [
    "### Normalize data with respect to 1 Thread\n",
    "normalized_speedups = speedups_table.iloc[0].div(speedups_table)"
   ]
  },
  {
   "cell_type": "code",
   "execution_count": 5,
   "metadata": {},
   "outputs": [
    {
     "data": {
      "text/html": [
       "<div>\n",
       "<style scoped>\n",
       "    .dataframe tbody tr th:only-of-type {\n",
       "        vertical-align: middle;\n",
       "    }\n",
       "\n",
       "    .dataframe tbody tr th {\n",
       "        vertical-align: top;\n",
       "    }\n",
       "\n",
       "    .dataframe thead th {\n",
       "        text-align: right;\n",
       "    }\n",
       "</style>\n",
       "<table border=\"1\" class=\"dataframe\">\n",
       "  <thead>\n",
       "    <tr style=\"text-align: right;\">\n",
       "      <th></th>\n",
       "      <th>blackscholes</th>\n",
       "      <th>canneal</th>\n",
       "      <th>dedup</th>\n",
       "      <th>ferret</th>\n",
       "      <th>freqmine</th>\n",
       "      <th>radix</th>\n",
       "      <th>vips</th>\n",
       "    </tr>\n",
       "  </thead>\n",
       "  <tbody>\n",
       "    <tr>\n",
       "      <th>1</th>\n",
       "      <td>1.000000</td>\n",
       "      <td>1.000000</td>\n",
       "      <td>1.000000</td>\n",
       "      <td>1.000000</td>\n",
       "      <td>1.000000</td>\n",
       "      <td>1.000000</td>\n",
       "      <td>1.000000</td>\n",
       "    </tr>\n",
       "    <tr>\n",
       "      <th>2</th>\n",
       "      <td>1.166829</td>\n",
       "      <td>1.261872</td>\n",
       "      <td>1.643437</td>\n",
       "      <td>1.950816</td>\n",
       "      <td>1.717197</td>\n",
       "      <td>1.735136</td>\n",
       "      <td>1.987131</td>\n",
       "    </tr>\n",
       "    <tr>\n",
       "      <th>4</th>\n",
       "      <td>2.637747</td>\n",
       "      <td>2.013243</td>\n",
       "      <td>2.075069</td>\n",
       "      <td>3.348262</td>\n",
       "      <td>3.894535</td>\n",
       "      <td>3.589908</td>\n",
       "      <td>3.753645</td>\n",
       "    </tr>\n",
       "    <tr>\n",
       "      <th>8</th>\n",
       "      <td>3.350496</td>\n",
       "      <td>2.607763</td>\n",
       "      <td>1.094854</td>\n",
       "      <td>3.928479</td>\n",
       "      <td>4.806025</td>\n",
       "      <td>5.595506</td>\n",
       "      <td>4.414465</td>\n",
       "    </tr>\n",
       "  </tbody>\n",
       "</table>\n",
       "</div>"
      ],
      "text/plain": [
       "   blackscholes   canneal     dedup    ferret  freqmine     radix      vips\n",
       "1      1.000000  1.000000  1.000000  1.000000  1.000000  1.000000  1.000000\n",
       "2      1.166829  1.261872  1.643437  1.950816  1.717197  1.735136  1.987131\n",
       "4      2.637747  2.013243  2.075069  3.348262  3.894535  3.589908  3.753645\n",
       "8      3.350496  2.607763  1.094854  3.928479  4.806025  5.595506  4.414465"
      ]
     },
     "execution_count": 5,
     "metadata": {},
     "output_type": "execute_result"
    }
   ],
   "source": [
    "normalized_speedups"
   ]
  },
  {
   "cell_type": "markdown",
   "metadata": {},
   "source": [
    "### Plot 2b"
   ]
  },
  {
   "cell_type": "code",
   "execution_count": 11,
   "metadata": {},
   "outputs": [
    {
     "name": "stdout",
     "output_type": "stream",
     "text": [
      "done\n"
     ]
    }
   ],
   "source": [
    "# Plotting\n",
    "fig, ax = plt.subplots(figsize=(10, 6))\n",
    "markers = ['o', 's', 'p', 'D', 'v', 'd', 'H']\n",
    "colors = [\n",
    "    '#0000ff',  # blue\n",
    "    '#007f00',  # green\n",
    "    '#ff0000',  # red\n",
    "    '#00bfbf',  # light blue\n",
    "    '#bf00bf',  # pink\n",
    "    '#bfbf00',  # ocra\n",
    "    '#000000'   # black\n",
    "]\n",
    "ax.spines['top'].set_visible(False)\n",
    "ax.spines['right'].set_visible(False)\n",
    "x_pos = [1, 2, 4, 8]\n",
    "\n",
    "y_labels = ['1', '2', '3', '4', '5', '6']\n",
    "ax.set_yticks(range(1, 7, 1), y_labels)\n",
    "\n",
    "ax.set_xticks(x_pos, ['1', '2', '4', '8'])\n",
    "\n",
    "# Linear speedup line\n",
    "linear_speedup = ax.plot([1, 6], [1, 6], color='darkgrey', linestyle='--', label='linear speedup')[0]\n",
    "\n",
    "# Significant speedup line\n",
    "step_x = [2, 4, 8, 9]\n",
    "step_y = [1.75, 3, 4, 4]\n",
    "significant_speedup = plt.step(step_x, step_y, where='post', linestyle='--', color='k', label='significant speedup')[0]\n",
    "\n",
    "i = 0\n",
    "for column in normalized_speedups.columns:\n",
    "    ax.errorbar(list(map(int, normalized_speedups.index)), normalized_speedups[column], marker=markers[i], color=colors[i],\n",
    "                 markersize=9, markeredgewidth=1.75, markerfacecolor='none', label=column, alpha=0.7, linewidth=2.5)\n",
    "    i += 1\n",
    "\n",
    "ax.tick_params(axis='x', labelsize=18)\n",
    "ax.tick_params(axis='y', labelsize=18)\n",
    "ax.set_xlim(0, 8.5)\n",
    "ax.set_ylim(0, 6.25)\n",
    "ax.set_xlabel('Number of Threads', fontsize=20)\n",
    "ax.set_ylabel('Speedup (normalized to 1-thread)', fontsize=20)\n",
    "ax.set_title('Parallelized Behaviour (1 run)', fontsize=20)\n",
    "\n",
    "handles, labels = plt.gca().get_legend_handles_labels()\n",
    "handles.extend([linear_speedup, significant_speedup])\n",
    "ax.legend(handles=handles[2:], fontsize=13)\n",
    "ax.grid()\n",
    "fig.tight_layout()\n",
    "\n",
    "if False:\n",
    "    plt.show()\n",
    "else:\n",
    "    matplotlib.use(\"pgf\")\n",
    "    plt.rc(\"pgf\", texsystem=\"pdflatex\", rcfonts=False)\n",
    "    plt.rcParams.update({\n",
    "        \"text.usetex\": True,\n",
    "        \"font.family\": \"serif\",\n",
    "        # Use LaTeX default serif font.\n",
    "        \"font.serif\": [],\n",
    "    })\n",
    "    plt.savefig(\"plots/plot2b_CCA_guidelines.pgf\", bbox_inches=\"tight\", backend='pgf')\n",
    "    print('done')\n"
   ]
  },
  {
   "cell_type": "code",
   "execution_count": null,
   "metadata": {},
   "outputs": [],
   "source": []
  },
  {
   "cell_type": "code",
   "execution_count": null,
   "metadata": {},
   "outputs": [],
   "source": []
  },
  {
   "cell_type": "code",
   "execution_count": null,
   "metadata": {},
   "outputs": [],
   "source": []
  }
 ],
 "metadata": {
  "kernelspec": {
   "display_name": "Python 3 (ipykernel)",
   "language": "python",
   "name": "python3"
  },
  "language_info": {
   "codemirror_mode": {
    "name": "ipython",
    "version": 3
   },
   "file_extension": ".py",
   "mimetype": "text/x-python",
   "name": "python",
   "nbconvert_exporter": "python",
   "pygments_lexer": "ipython3",
   "version": "3.12.2"
  }
 },
 "nbformat": 4,
 "nbformat_minor": 4
}
